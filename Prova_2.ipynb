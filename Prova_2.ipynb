{
  "cells": [
    {
      "cell_type": "markdown",
      "metadata": {
        "id": "x6UwaE34MJ7P"
      },
      "source": [
        "Aluno: Jhonata Ezequiel Alves de Miranda\n",
        "\n",
        "Matrícula: 20190046473\n",
        "\n",
        "1º) Utilizando a base de dados de https://www.kaggle.com/datasets/csafrit2/higher-education-students-performance-evaluation, elabore uma solução para identificar o OUTPUT Grade do estudante. Lembre-se de comentar seu código no notebook detalhadamente, explicando cada passo.\n",
        "\n",
        "A) Faça o pré-processamento dos dados (limpeza, engenharia de variáveis, etc) e deixe os seus dados preparados para aplicar o modelo.\n",
        "OBS: Utilize pelo menos uma forma de redimensionamento de atributos (selecionando ou agregando) e avalie o resultado de utilizar todas eles e essa amostra.\n",
        "\n",
        "B) Faça uma análise exploratória dos dados de saída, utilizando box plot, mostrando a aplicação de técnicas de under ou oversampling para que as classes tenham o mesmo tamanho.\n",
        "\n",
        "C) Utilize a biblioteca AUTOML para fazer a previsão. Para o melhor algoritmo, teste 3 variações de um dos seus hiperparâmetros.\n",
        "\n",
        "D) Para avaliar os resultados, utilize e explique a matriz de confusão. Além disso, escolha 2 métricas de sua preferência e o que o seu resultado significa.\n"
      ]
    },
    {
      "cell_type": "markdown",
      "source": [
        "OBS: em ordem, os blocos de código 1, 2, e 4 precisarão ser executados para todas as questões. Os códigos estão enumerados por comentarios"
      ],
      "metadata": {
        "id": "ddaKxBbNfF4-"
      }
    },
    {
      "cell_type": "code",
      "execution_count": null,
      "metadata": {
        "id": "c8vGIg70K7qZ"
      },
      "outputs": [],
      "source": [
        "#1\n",
        "#questão 1 letra A\n",
        "\n",
        "import numpy as np\n",
        "import pandas as pd\n",
        "import matplotlib.pyplot as plt\n",
        "\n",
        "base = pd.read_csv('student_prediction.csv')"
      ]
    },
    {
      "cell_type": "code",
      "source": [
        "#2\n",
        "#limpeza de dados\n",
        "\n",
        "#eliminando todas as linhas com dados ausentes\n",
        "base = base.dropna(how = 'any')\n",
        "\n",
        "#eliminando as duplicatas\n",
        "base = base.drop_duplicates()"
      ],
      "metadata": {
        "id": "lUJV83O42HUb"
      },
      "execution_count": null,
      "outputs": []
    },
    {
      "cell_type": "markdown",
      "metadata": {
        "id": "i6mdOzBcR95k"
      },
      "source": [
        "Em seguida, farei a verificação de atributos para tentar ver se tem alguma correlação que impacte muito com a nota final"
      ]
    },
    {
      "cell_type": "code",
      "execution_count": null,
      "metadata": {
        "id": "tchwiSoXTEHL"
      },
      "outputs": [],
      "source": [
        "#3\n",
        "#verificando a correlação entre todos os atributos\n",
        "corr = base.corr()\n",
        "corr.style.background_gradient(cmap = 'coolwarm')"
      ]
    },
    {
      "cell_type": "markdown",
      "source": [
        "Sobre as colunas que foram retiradas: \n",
        "\n",
        "A princípio achei que as colunas referentes ao ambiente que o estudante vive seriam importantes, no entanto pessoas que tem problemas em suas residências normalmente são pessoas de classe baixa, e julguei que caso o estudante tivesse uma bolsa para estudar na universidade, ele provavelmente pertenceria a esse grupo."
      ],
      "metadata": {
        "id": "n1VlyDdCNC1O"
      }
    },
    {
      "cell_type": "code",
      "source": [
        "#4\n",
        "#reduzindo a quantidade de atributos\n",
        "base = base.drop(columns=['STUDENTID', 'COURSE ID', 'MOTHER_EDU', 'FATHER_EDU', 'MOTHER_JOB', 'FATHER_JOB', 'SALARY', '#_SIBLINGS', 'KIDS', 'TRANSPORT', 'IMPACT', 'ATTEND_DEPT'])"
      ],
      "metadata": {
        "id": "G88XM8NR2R7B"
      },
      "execution_count": null,
      "outputs": []
    },
    {
      "cell_type": "code",
      "execution_count": null,
      "metadata": {
        "id": "uxKbzlsFU7F6"
      },
      "outputs": [],
      "source": [
        "#5\n",
        "#Questão 1 Letra B\n",
        "#verificando os dados de saída com boxplot\n",
        "\n",
        "plt.boxplot(base['GRADE'])\n",
        "\n",
        "plt.title('Estudantes')\n",
        "plt.xlabel('Nota')\n",
        "plt.ylabel('Valores')"
      ]
    },
    {
      "cell_type": "code",
      "execution_count": null,
      "metadata": {
        "id": "1sOv2HRIVUKD"
      },
      "outputs": [],
      "source": [
        "#6\n",
        "#Verificando a média das notas\n",
        "\n",
        "base['GRADE'].mean()"
      ]
    },
    {
      "cell_type": "code",
      "execution_count": null,
      "metadata": {
        "id": "oN-SXXLoV1Pq"
      },
      "outputs": [],
      "source": [
        "#7\n",
        "#Verificando a variância e o desvio padrão das notas\n",
        "\n",
        "variancia = base['GRADE'].var()\n",
        "desvio = base['GRADE'].std()\n",
        "\n",
        "print('Variancia: ' + str(variancia)) \n",
        "print('Desvio padrao: ' + str(desvio))"
      ]
    },
    {
      "cell_type": "code",
      "execution_count": null,
      "metadata": {
        "id": "zKJl9rY3b-7b"
      },
      "outputs": [],
      "source": [
        "#8\n",
        "#verificando se há um desbalanceamento entre as notas\n",
        "base['GRADE'].value_counts()"
      ]
    },
    {
      "cell_type": "markdown",
      "metadata": {
        "id": "aXA4R99UcLCi"
      },
      "source": [
        "Aplicando Oversampling:"
      ]
    },
    {
      "cell_type": "code",
      "execution_count": null,
      "metadata": {
        "id": "KTxNTRthcW6K"
      },
      "outputs": [],
      "source": [
        "#9\n",
        "#dividindo a base numa proporção 7 por 3\n",
        "from sklearn.model_selection import train_test_split\n",
        "\n",
        "#separando a classe alvo\n",
        "X = base.drop('GRADE', axis = 1)\n",
        "y = base['GRADE']\n",
        "\n",
        "X_train, X_test, y_train, y_test = train_test_split(X, y, test_size = 0.3, random_state = 1)"
      ]
    },
    {
      "cell_type": "code",
      "execution_count": null,
      "metadata": {
        "id": "zrwhHGU3dBPh"
      },
      "outputs": [],
      "source": [
        "#10\n",
        "#utilizando o método random para o oversampling\n",
        "from imblearn.over_sampling import RandomOverSampler\n",
        "oversampler = RandomOverSampler(random_state = 1)\n",
        "\n",
        "X_smote, y_smote = oversampler.fit_resample(X_train, y_train)\n",
        "\n",
        "y_smote.value_counts()"
      ]
    },
    {
      "cell_type": "code",
      "execution_count": null,
      "metadata": {
        "id": "xqWpz9Q5eOzK"
      },
      "outputs": [],
      "source": [
        "#11\n",
        "#juntando o X_smote (dataframe sem o atributo notas) com o y_smote (dataframe com as notas) para formar uma nova base\n",
        "convertido = y_smote.to_frame() #transformando de series para dataframe\n",
        "\n",
        "base_final = X_smote.join(convertido['GRADE'])"
      ]
    },
    {
      "cell_type": "markdown",
      "source": [
        "bloco 12:\n",
        "\n",
        "Após rodas os dois comandos abaixo, reinicie o ambiente de execução"
      ],
      "metadata": {
        "id": "KcdItnugkn5h"
      }
    },
    {
      "cell_type": "code",
      "source": [
        "!pip3 install auto-sklearn"
      ],
      "metadata": {
        "id": "MU6nOirErZEO"
      },
      "execution_count": null,
      "outputs": []
    },
    {
      "cell_type": "code",
      "source": [
        "!pip3 install scipy -U"
      ],
      "metadata": {
        "id": "nD0FGtoBb-wJ"
      },
      "execution_count": null,
      "outputs": []
    },
    {
      "cell_type": "code",
      "source": [
        "#13\n",
        "#Questão 1 Letra C\n",
        "from sklearn.model_selection import train_test_split\n",
        "from sklearn.metrics import accuracy_score\n",
        "from sklearn.metrics import confusion_matrix\n",
        "from autosklearn.classification import AutoSklearnClassifier"
      ],
      "metadata": {
        "id": "IPt0R9OoSmLv"
      },
      "execution_count": null,
      "outputs": []
    },
    {
      "cell_type": "code",
      "source": [
        "#14\n",
        "#Dividindo a base após o oversampling (necessita do bloco 11)\n",
        "\n",
        "#separando a classe alvo\n",
        "X = base_final.drop('GRADE', axis = 1)\n",
        "y = base_final['GRADE']\n",
        "\n",
        "X_train, X_test, y_train, y_test = train_test_split(X, y, test_size = 0.3, random_state = 1)"
      ],
      "metadata": {
        "id": "AZXGKZG7bgr5"
      },
      "execution_count": null,
      "outputs": []
    },
    {
      "cell_type": "code",
      "execution_count": null,
      "metadata": {
        "id": "mwa2kV7Wtsht"
      },
      "outputs": [],
      "source": [
        "#15\n",
        "#o algoritmo vai executar por 5 minutos, com um tempo limite de 30 segundos para cada instância diferente, usando todos os processadores disponíveis\n",
        "modelo_holdout_normal = AutoSklearnClassifier(time_left_for_this_task=5*60, per_run_time_limit=30, n_jobs=-1)\n",
        "\n",
        "#inicia a busca\n",
        "modelo_holdout_normal.fit(X_train, y_train)\n",
        "\n",
        "#mostrando as estatísticas do processo\n",
        "print(modelo_holdout_normal.sprint_statistics())\n",
        "\n",
        "#testando o melhor modelo\n",
        "y_h1 = modelo_holdout_normal.predict(X_test)\n",
        "acc = accuracy_score(y_test, y_h1)\n",
        "print(\"Acuracia: %.3f\" % acc)\n",
        "print(modelo_holdout_normal.leaderboard())"
      ]
    },
    {
      "cell_type": "code",
      "source": [
        "#16\n",
        "#usando cross validation com 10 folds\n",
        "modelo_cross = AutoSklearnClassifier(time_left_for_this_task=5*60, per_run_time_limit=30, n_jobs=-1, resampling_strategy = 'cv', resampling_strategy_arguments={'folds': 10})\n",
        "#inicia a busca\n",
        "modelo_cross.fit(X_train, y_train)\n",
        "\n",
        "#mostrando as estatísticas do processo\n",
        "print(modelo_cross.sprint_statistics())\n",
        "\n",
        "#testando o melhor modelo\n",
        "y_cv = modelo_cross.predict(X_test)\n",
        "acc = accuracy_score(y_test, y_cv)\n",
        "print(\"Acuracia: %.3f\" % acc)\n",
        "print(modelo_cross.leaderboard())"
      ],
      "metadata": {
        "id": "8cJyMZJBJn_t"
      },
      "execution_count": null,
      "outputs": []
    },
    {
      "cell_type": "code",
      "source": [
        "#17\n",
        "#usando holdout iterative fit, com base de treinamento em 7 por 3 nos argumentos\n",
        "modelo_holdout_iterativo = AutoSklearnClassifier(time_left_for_this_task=5*60, per_run_time_limit=30, n_jobs=-1, resampling_strategy = 'holdout-iterative-fit', resampling_strategy_arguments={'train_size': 0.7})\n",
        "#inicia a busca\n",
        "modelo_holdout_iterativo.fit(X_train, y_train)\n",
        "\n",
        "#mostrando as estatísticas do processo\n",
        "print(modelo_holdout_iterativo.sprint_statistics())\n",
        "\n",
        "#testando o melhor modelo\n",
        "y_h2 = modelo_holdout_iterativo.predict(X_test)\n",
        "acc = accuracy_score(y_test, y_h2)\n",
        "print(\"Acuracia: %.3f\" % acc)"
      ],
      "metadata": {
        "id": "FHcMjA2NMl5O"
      },
      "execution_count": null,
      "outputs": []
    },
    {
      "cell_type": "code",
      "source": [
        "#18\n",
        "#Questão 1 Letra D\n",
        "#como o melhor resultado normalmente é o cross validation, vou usa-lo aqui\n",
        "from sklearn.metrics import precision_score\n",
        "\n",
        "#matrix de confusao\n",
        "cm = confusion_matrix(y_test, y_cv)\n",
        "print('matriz de confusao: \\n\\n' + str(cm))\n",
        "\n",
        "acc = accuracy_score(y_test, y_cv)\n",
        "print(\"\\nAcuracia: %.3f\" % acc)\n",
        "\n",
        "pre = precision_score(y_test, y_cv, average = 'macro')\n",
        "print(\"Precisao: %.3f\" % pre)"
      ],
      "metadata": {
        "id": "AaawRB5DR4Sh"
      },
      "execution_count": null,
      "outputs": []
    },
    {
      "cell_type": "markdown",
      "source": [
        "A partir desses dados (precisão e acurácia) é possível ver uma eficácia considerável do programa, principalmente após o tratamento de dados, e a entrega de mais instâncias após o oversampling. Nesse exemplo eu também testei antes com undersampling, mas o resultado foi horrível, e quando troquei houve uma mudança significativa."
      ],
      "metadata": {
        "id": "LtzMZT21dwye"
      }
    },
    {
      "cell_type": "markdown",
      "source": [
        "2) Utilize a mesma base de dados (lembrem de tirar o rótulo, obviamente) da questão anterior de forma que:\n",
        "\n",
        "A) Execute o K-means e Hierárquico.\n",
        "\n",
        "B) Teste o K igual à 5 e 7.\n",
        "\n",
        "C) Na execução do Hierárquico, varie 2 métodos do linkage; OBS.: utilize os mesmos valores de clusters escolhidos na questão anterior.\n",
        "\n",
        "D) Por fim, faça uma comparação entre os 2 resultados das execuções anteriores e adote uma medida de avaliação própria para clusterização.\n"
      ],
      "metadata": {
        "id": "7lrRHGzIeP-Q"
      }
    },
    {
      "cell_type": "code",
      "source": [
        "#retirando a 'GRADE' da base\n",
        "base_final2 = base_final.drop('GRADE', axis = 1)"
      ],
      "metadata": {
        "id": "flG8v_jPv1Jt"
      },
      "execution_count": null,
      "outputs": []
    },
    {
      "cell_type": "code",
      "source": [
        "#19\n",
        "#Questão 2 (execute o bloco 11)\n",
        "\n",
        "#hierárquico com método ward e 3 clusters\n",
        "\n",
        "from sklearn.cluster import AgglomerativeClustering\n",
        "import numpy as np\n",
        "\n",
        "agg_clustering1 = AgglomerativeClustering(n_clusters = 3, affinity = 'euclidean', linkage = 'ward')\n",
        "predic1 = agg_clustering1.fit_predict(base_final2)"
      ],
      "metadata": {
        "id": "hh2uRuRcepaE"
      },
      "execution_count": null,
      "outputs": []
    },
    {
      "cell_type": "code",
      "source": [
        "#20\n",
        "#hierárquico com método average e 3 clusters\n",
        "\n",
        "from sklearn.cluster import AgglomerativeClustering\n",
        "import numpy as np\n",
        "\n",
        "agg_clustering2 = AgglomerativeClustering(n_clusters = 3, affinity = 'euclidean', linkage = 'average')\n",
        "predic2 = agg_clustering2.fit_predict(base_final2)"
      ],
      "metadata": {
        "id": "iSfA-HSytezF"
      },
      "execution_count": null,
      "outputs": []
    },
    {
      "cell_type": "code",
      "source": [
        "#21\n",
        "#K means com 5 clusters\n",
        "from sklearn.cluster import KMeans\n",
        "import numpy as np\n",
        "\n",
        "kmeans1 = KMeans(n_clusters=5, random_state=1)\n",
        "predic3 = kmeans1.fit_predict(base_final2)"
      ],
      "metadata": {
        "id": "3P1aTj_KwvAa"
      },
      "execution_count": null,
      "outputs": []
    },
    {
      "cell_type": "code",
      "source": [
        "#23\n",
        "#K means com 7 clusters\n",
        "from sklearn.cluster import KMeans\n",
        "import numpy as np\n",
        "\n",
        "kmeans2 = KMeans(n_clusters=7, random_state=1)\n",
        "predic4 = kmeans2.fit_predict(base_final2)"
      ],
      "metadata": {
        "id": "Wy2C0vr1x9kt"
      },
      "execution_count": null,
      "outputs": []
    },
    {
      "cell_type": "code",
      "source": [
        "#25\n",
        "#Questão 2 Letra D\n",
        "from sklearn.metrics import silhouette_score\n",
        "from sklearn.metrics import confusion_matrix\n",
        "\n",
        "print(\"Analisando kmeans com 5 clusters:\")\n",
        "pontuacao = silhouette_score(base_final2, kmeans1.labels_, metric = 'euclidean')\n",
        "print(\"Silhouette Score com 5 clusters: {}\" .format(pontuacao))\n",
        "print(\"matriz de confusão\")\n",
        "confusion_matrix(base_final['GRADE'], predic3)"
      ],
      "metadata": {
        "colab": {
          "base_uri": "https://localhost:8080/"
        },
        "id": "Y6UCWvoOtu8Z",
        "outputId": "a7834b52-349e-4a83-aa32-89339edaa71c"
      },
      "execution_count": null,
      "outputs": [
        {
          "output_type": "stream",
          "name": "stdout",
          "text": [
            "Analisando kmeans com 5 clusters:\n",
            "Silhouette Score com 5 clusters: 0.12147057948957606\n",
            "matriz de confusão\n"
          ]
        },
        {
          "output_type": "execute_result",
          "data": {
            "text/plain": [
              "array([[10,  3,  8,  1,  0,  0,  0,  0],\n",
              "       [ 4,  5,  7,  4,  2,  0,  0,  0],\n",
              "       [ 9,  5,  4,  0,  4,  0,  0,  0],\n",
              "       [ 0,  5,  2,  8,  7,  0,  0,  0],\n",
              "       [ 1, 12,  3,  0,  6,  0,  0,  0],\n",
              "       [ 2,  9,  0, 10,  1,  0,  0,  0],\n",
              "       [ 5,  4,  4,  5,  4,  0,  0,  0],\n",
              "       [ 3,  8,  5,  4,  2,  0,  0,  0]])"
            ]
          },
          "metadata": {},
          "execution_count": 30
        }
      ]
    },
    {
      "cell_type": "code",
      "source": [
        "from sklearn.metrics import silhouette_score\n",
        "from sklearn.metrics import confusion_matrix\n",
        "\n",
        "print(\"Analisando kmeans com 7 clusters:\")\n",
        "pontuacao = silhouette_score(base_final2, kmeans2.labels_, metric = 'euclidean')\n",
        "print(\"Silhouette Score com 7 clusters: {}\" .format(pontuacao))\n",
        "print(\"matriz de confusão\")\n",
        "confusion_matrix(base_final['GRADE'], predic4)"
      ],
      "metadata": {
        "colab": {
          "base_uri": "https://localhost:8080/"
        },
        "id": "WXK4oFl6y5IZ",
        "outputId": "6b8d435e-0702-4642-cc46-2064d5321849"
      },
      "execution_count": null,
      "outputs": [
        {
          "output_type": "stream",
          "name": "stdout",
          "text": [
            "Analisando kmeans com 7 clusters:\n",
            "Silhouette Score com 7 clusters: 0.13677802744151032\n",
            "matriz de confusão\n"
          ]
        },
        {
          "output_type": "execute_result",
          "data": {
            "text/plain": [
              "array([[ 0,  1,  8,  0,  3, 10,  0,  0],\n",
              "       [ 2,  4,  8,  3,  0,  1,  4,  0],\n",
              "       [ 3,  6,  6,  1,  3,  2,  1,  0],\n",
              "       [ 3,  6,  2,  3,  0,  0,  8,  0],\n",
              "       [ 6,  3,  3,  5,  1,  0,  4,  0],\n",
              "       [ 1,  7,  0,  4,  2,  0,  8,  0],\n",
              "       [ 5,  3,  4,  0,  6,  0,  4,  0],\n",
              "       [ 3,  5,  5,  0,  2,  1,  6,  0]])"
            ]
          },
          "metadata": {},
          "execution_count": 31
        }
      ]
    },
    {
      "cell_type": "code",
      "source": [
        "from sklearn.metrics import silhouette_score\n",
        "from sklearn.metrics import confusion_matrix\n",
        "\n",
        "print(\"Analisando hierarquico ward com 3 clusters:\")\n",
        "pontuacao = silhouette_score(base_final2, agg_clustering1.labels_, metric = 'euclidean')\n",
        "print(\"Silhouette Score com 7 clusters: {}\" .format(pontuacao))\n",
        "print(\"matriz de confusão\")\n",
        "confusion_matrix(base_final['GRADE'], predic1)"
      ],
      "metadata": {
        "colab": {
          "base_uri": "https://localhost:8080/"
        },
        "id": "tor-3kLYzBsZ",
        "outputId": "804c6329-0271-45fa-b43d-243d4499a6f0"
      },
      "execution_count": null,
      "outputs": [
        {
          "output_type": "stream",
          "name": "stdout",
          "text": [
            "Analisando hierarquico ward com 3 clusters:\n",
            "Silhouette Score com 7 clusters: 0.11234879199194113\n",
            "matriz de confusão\n"
          ]
        },
        {
          "output_type": "execute_result",
          "data": {
            "text/plain": [
              "array([[10,  4,  8,  0,  0,  0,  0,  0],\n",
              "       [ 7,  6,  9,  0,  0,  0,  0,  0],\n",
              "       [12,  2,  8,  0,  0,  0,  0,  0],\n",
              "       [11,  9,  2,  0,  0,  0,  0,  0],\n",
              "       [ 4,  9,  9,  0,  0,  0,  0,  0],\n",
              "       [13,  9,  0,  0,  0,  0,  0,  0],\n",
              "       [10,  4,  8,  0,  0,  0,  0,  0],\n",
              "       [11,  6,  5,  0,  0,  0,  0,  0]])"
            ]
          },
          "metadata": {},
          "execution_count": 32
        }
      ]
    },
    {
      "cell_type": "code",
      "source": [
        "from sklearn.metrics import silhouette_score\n",
        "from sklearn.metrics import confusion_matrix\n",
        "\n",
        "print(\"Analisando hierarquico average com 3 clusters:\")\n",
        "pontuacao = silhouette_score(base_final2, agg_clustering2.labels_, metric = 'euclidean')\n",
        "print(\"Silhouette Score com 3 clusters: {}\" .format(pontuacao))\n",
        "print(\"matriz de confusão\")\n",
        "confusion_matrix(base_final['GRADE'], predic2)"
      ],
      "metadata": {
        "colab": {
          "base_uri": "https://localhost:8080/"
        },
        "id": "bCablDMmzWFR",
        "outputId": "9e9f0498-ff27-4556-d9ea-900445d7ed8a"
      },
      "execution_count": null,
      "outputs": [
        {
          "output_type": "stream",
          "name": "stdout",
          "text": [
            "Analisando hierarquico average com 3 clusters:\n",
            "Silhouette Score com 3 clusters: 0.19650483524479262\n",
            "matriz de confusão\n"
          ]
        },
        {
          "output_type": "execute_result",
          "data": {
            "text/plain": [
              "array([[18,  4,  0,  0,  0,  0,  0,  0],\n",
              "       [22,  0,  0,  0,  0,  0,  0,  0],\n",
              "       [22,  0,  0,  0,  0,  0,  0,  0],\n",
              "       [20,  0,  2,  0,  0,  0,  0,  0],\n",
              "       [22,  0,  0,  0,  0,  0,  0,  0],\n",
              "       [22,  0,  0,  0,  0,  0,  0,  0],\n",
              "       [22,  0,  0,  0,  0,  0,  0,  0],\n",
              "       [21,  0,  1,  0,  0,  0,  0,  0]])"
            ]
          },
          "metadata": {},
          "execution_count": 34
        }
      ]
    },
    {
      "cell_type": "markdown",
      "source": [
        "É possível observar, a partir do silhouette score, que por ele estar próximo de zero, os clusters estão se sobrepondo. Por estar mais próximo de 1, o método linkage com o linkage em 'average' se mostrou o melhor resultado."
      ],
      "metadata": {
        "id": "bUkA9EeFzjQh"
      }
    }
  ],
  "metadata": {
    "colab": {
      "collapsed_sections": [],
      "name": "Prova 2.ipynb",
      "provenance": []
    },
    "kernelspec": {
      "display_name": "Python 3",
      "name": "python3"
    },
    "language_info": {
      "name": "python"
    }
  },
  "nbformat": 4,
  "nbformat_minor": 0
}